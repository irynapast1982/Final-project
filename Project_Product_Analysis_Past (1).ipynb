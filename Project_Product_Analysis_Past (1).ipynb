{
  "nbformat": 4,
  "nbformat_minor": 0,
  "metadata": {
    "colab": {
      "provenance": []
    },
    "kernelspec": {
      "name": "python3",
      "display_name": "Python 3"
    },
    "language_info": {
      "name": "python"
    }
  },
  "cells": [
    {
      "cell_type": "markdown",
      "source": [
        "# ЗАДАНИЕ ПО ПРОДУКТОВОЙ АНАЛИТИКЕ"
      ],
      "metadata": {
        "id": "rLzHwX55_QPw"
      }
    },
    {
      "cell_type": "markdown",
      "source": [
        "==============================================================================================================\n",
        "\n",
        "Цель:\n",
        "\n",
        "Найти точку роста бизнеса и сформулировать гипотезу по улучшению бизнес-процесса для увеличения показателей и описать механику их тестирования, принимая во внимание, что тестирование не должно занимать более 2 недель.\n",
        "\n",
        "==============================================================================================================="
      ],
      "metadata": {
        "id": "r-Ndwo9D_c-k"
      }
    },
    {
      "cell_type": "markdown",
      "source": [
        "# 1.Рассчитайте юнит-экономику по продуктам."
      ],
      "metadata": {
        "id": "smFBpxQo_xGi"
      }
    },
    {
      "cell_type": "markdown",
      "source": [
        " Ключевые показатели бизнеса\n",
        "\n",
        "Прибыль: Основной показатель, на котором сосредоточены все усилия компании.\n",
        "\n",
        "Показатели принятия решений (юнит-экономика)\n",
        "\n",
        "\n",
        "*   UA (Users): Количество лидов, которые потенциально могут стать клиентами.\n",
        "*  B (Bayers): Количество клиентов, совершивших покупку.\n",
        "*   C1 (Conversion Rate): Конверсия пользователей в клиентов.\n",
        "*   AC (Marketing Budget): Общий маркетинговый бюджет.\n",
        "*   CPA (Cost Per Acquisition): Стоимость привлечения одного пользователя.\n",
        "*   CAC (Customer Acquisition Cost): Стоимость привлечения одного клиента.\n",
        "*   Gross Revenue (Total Sales): Общий доход от продаж.\n",
        "*   AOV (Average Order Value): Средний чек за покупку.\n",
        "*   APC (Average Purchases per Customer): Среднее количество покупок на одного клиента.\n",
        "*   CLTV (Customer Lifetime Value): Средняя валовая прибыль на одного клиента.\n",
        "*   LTV (Lifetime Value): Средняя валовая прибыль на одного пользователя.\n",
        "*   CM (Contribution Margin): Маржинальная прибыль.\n",
        "*   Total Deals: Общее количество успешных сделок.\n",
        "\n",
        "\n",
        "\n",
        "\n",
        "\n",
        "\n",
        "\n",
        "\n",
        "\n",
        "\n",
        "\n",
        "\n",
        "\n"
      ],
      "metadata": {
        "id": "EHQWVeIwAHUY"
      }
    },
    {
      "cell_type": "code",
      "source": [
        "import pandas as pd\n",
        "import numpy as np\n",
        "import scipy.stats as stats"
      ],
      "metadata": {
        "id": "zJUNhnlb_J8z"
      },
      "execution_count": null,
      "outputs": []
    },
    {
      "cell_type": "code",
      "source": [
        "deals = pd.read_excel(\"/content/Deals_clear.xlsx\")\n",
        "spend = pd.read_excel(\"/content/Spend_clear.xlsx\")"
      ],
      "metadata": {
        "id": "FiE0CSse_J5h"
      },
      "execution_count": null,
      "outputs": []
    },
    {
      "cell_type": "code",
      "source": [
        "deals.head()"
      ],
      "metadata": {
        "colab": {
          "base_uri": "https://localhost:8080/",
          "height": 464
        },
        "id": "iJO8kAUV_J2c",
        "outputId": "3989180a-bf21-49fe-89e4-a62e93bebd2d"
      },
      "execution_count": null,
      "outputs": [
        {
          "output_type": "execute_result",
          "data": {
            "text/plain": [
              "   Unnamed: 0                   Id Deal Owner Name Closing Date  \\\n",
              "0           0  5805028000056864695        Ben Hall          NaT   \n",
              "1           1  5805028000056859489   Ulysses Adams          NaT   \n",
              "2           2  5805028000056832357   Ulysses Adams   2024-06-21   \n",
              "3           3  5805028000056824246        Eva Kent   2024-06-21   \n",
              "4           4  5805028000056873292        Ben Hall   2024-06-21   \n",
              "\n",
              "             Quality     Stage     Lost Reason       Page  \\\n",
              "0                NaN  New Lead             NaN  /eng/test   \n",
              "1                NaN  New Lead             NaN    /at-eng   \n",
              "2     D - Non Target      Lost      Non target    /at-eng   \n",
              "3  E - Non Qualified      Lost  Invalid number       /eng   \n",
              "4     D - Non Target      Lost      Non target       /eng   \n",
              "\n",
              "                   Campaign             Content  ... Education Type  \\\n",
              "0             03.07.23women                 v16  ...            NaN   \n",
              "1                       NaN                 NaN  ...        Morning   \n",
              "2                engwien_AT               b1-at  ...            NaN   \n",
              "3  04.07.23recentlymoved_DE  bloggersvideo14com  ...            NaN   \n",
              "4              discovery_DE             website  ...            NaN   \n",
              "\n",
              "         Created Time Course duration Months of study Initial Amount Paid  \\\n",
              "0 2024-06-21 15:30:00             NaN             NaN                   0   \n",
              "1 2024-06-21 15:23:00             6.0             NaN                   0   \n",
              "2 2024-06-21 14:45:00             NaN             NaN                   0   \n",
              "3 2024-06-21 13:32:00             NaN             NaN                   0   \n",
              "4 2024-06-21 13:21:00             NaN             NaN                   0   \n",
              "\n",
              "  Offer Total Amount         Contact Name  City  Level of Deutsch  SLA Seconds  \n",
              "0                  0  5805028000056849495   NaN        Неизвестно          NaN  \n",
              "1               2000  5805028000056834471   NaN        Неизвестно          NaN  \n",
              "2                  0  5805028000056854421   NaN        Неизвестно       1603.0  \n",
              "3                  0  5805028000056889351   NaN        Неизвестно       3604.0  \n",
              "4                  0  5805028000056876176   NaN        Неизвестно       3192.0  \n",
              "\n",
              "[5 rows x 24 columns]"
            ],
            "text/html": [
              "\n",
              "  <div id=\"df-65bc1b81-91d2-4060-b298-4448318b4307\" class=\"colab-df-container\">\n",
              "    <div>\n",
              "<style scoped>\n",
              "    .dataframe tbody tr th:only-of-type {\n",
              "        vertical-align: middle;\n",
              "    }\n",
              "\n",
              "    .dataframe tbody tr th {\n",
              "        vertical-align: top;\n",
              "    }\n",
              "\n",
              "    .dataframe thead th {\n",
              "        text-align: right;\n",
              "    }\n",
              "</style>\n",
              "<table border=\"1\" class=\"dataframe\">\n",
              "  <thead>\n",
              "    <tr style=\"text-align: right;\">\n",
              "      <th></th>\n",
              "      <th>Unnamed: 0</th>\n",
              "      <th>Id</th>\n",
              "      <th>Deal Owner Name</th>\n",
              "      <th>Closing Date</th>\n",
              "      <th>Quality</th>\n",
              "      <th>Stage</th>\n",
              "      <th>Lost Reason</th>\n",
              "      <th>Page</th>\n",
              "      <th>Campaign</th>\n",
              "      <th>Content</th>\n",
              "      <th>...</th>\n",
              "      <th>Education Type</th>\n",
              "      <th>Created Time</th>\n",
              "      <th>Course duration</th>\n",
              "      <th>Months of study</th>\n",
              "      <th>Initial Amount Paid</th>\n",
              "      <th>Offer Total Amount</th>\n",
              "      <th>Contact Name</th>\n",
              "      <th>City</th>\n",
              "      <th>Level of Deutsch</th>\n",
              "      <th>SLA Seconds</th>\n",
              "    </tr>\n",
              "  </thead>\n",
              "  <tbody>\n",
              "    <tr>\n",
              "      <th>0</th>\n",
              "      <td>0</td>\n",
              "      <td>5805028000056864695</td>\n",
              "      <td>Ben Hall</td>\n",
              "      <td>NaT</td>\n",
              "      <td>NaN</td>\n",
              "      <td>New Lead</td>\n",
              "      <td>NaN</td>\n",
              "      <td>/eng/test</td>\n",
              "      <td>03.07.23women</td>\n",
              "      <td>v16</td>\n",
              "      <td>...</td>\n",
              "      <td>NaN</td>\n",
              "      <td>2024-06-21 15:30:00</td>\n",
              "      <td>NaN</td>\n",
              "      <td>NaN</td>\n",
              "      <td>0</td>\n",
              "      <td>0</td>\n",
              "      <td>5805028000056849495</td>\n",
              "      <td>NaN</td>\n",
              "      <td>Неизвестно</td>\n",
              "      <td>NaN</td>\n",
              "    </tr>\n",
              "    <tr>\n",
              "      <th>1</th>\n",
              "      <td>1</td>\n",
              "      <td>5805028000056859489</td>\n",
              "      <td>Ulysses Adams</td>\n",
              "      <td>NaT</td>\n",
              "      <td>NaN</td>\n",
              "      <td>New Lead</td>\n",
              "      <td>NaN</td>\n",
              "      <td>/at-eng</td>\n",
              "      <td>NaN</td>\n",
              "      <td>NaN</td>\n",
              "      <td>...</td>\n",
              "      <td>Morning</td>\n",
              "      <td>2024-06-21 15:23:00</td>\n",
              "      <td>6.0</td>\n",
              "      <td>NaN</td>\n",
              "      <td>0</td>\n",
              "      <td>2000</td>\n",
              "      <td>5805028000056834471</td>\n",
              "      <td>NaN</td>\n",
              "      <td>Неизвестно</td>\n",
              "      <td>NaN</td>\n",
              "    </tr>\n",
              "    <tr>\n",
              "      <th>2</th>\n",
              "      <td>2</td>\n",
              "      <td>5805028000056832357</td>\n",
              "      <td>Ulysses Adams</td>\n",
              "      <td>2024-06-21</td>\n",
              "      <td>D - Non Target</td>\n",
              "      <td>Lost</td>\n",
              "      <td>Non target</td>\n",
              "      <td>/at-eng</td>\n",
              "      <td>engwien_AT</td>\n",
              "      <td>b1-at</td>\n",
              "      <td>...</td>\n",
              "      <td>NaN</td>\n",
              "      <td>2024-06-21 14:45:00</td>\n",
              "      <td>NaN</td>\n",
              "      <td>NaN</td>\n",
              "      <td>0</td>\n",
              "      <td>0</td>\n",
              "      <td>5805028000056854421</td>\n",
              "      <td>NaN</td>\n",
              "      <td>Неизвестно</td>\n",
              "      <td>1603.0</td>\n",
              "    </tr>\n",
              "    <tr>\n",
              "      <th>3</th>\n",
              "      <td>3</td>\n",
              "      <td>5805028000056824246</td>\n",
              "      <td>Eva Kent</td>\n",
              "      <td>2024-06-21</td>\n",
              "      <td>E - Non Qualified</td>\n",
              "      <td>Lost</td>\n",
              "      <td>Invalid number</td>\n",
              "      <td>/eng</td>\n",
              "      <td>04.07.23recentlymoved_DE</td>\n",
              "      <td>bloggersvideo14com</td>\n",
              "      <td>...</td>\n",
              "      <td>NaN</td>\n",
              "      <td>2024-06-21 13:32:00</td>\n",
              "      <td>NaN</td>\n",
              "      <td>NaN</td>\n",
              "      <td>0</td>\n",
              "      <td>0</td>\n",
              "      <td>5805028000056889351</td>\n",
              "      <td>NaN</td>\n",
              "      <td>Неизвестно</td>\n",
              "      <td>3604.0</td>\n",
              "    </tr>\n",
              "    <tr>\n",
              "      <th>4</th>\n",
              "      <td>4</td>\n",
              "      <td>5805028000056873292</td>\n",
              "      <td>Ben Hall</td>\n",
              "      <td>2024-06-21</td>\n",
              "      <td>D - Non Target</td>\n",
              "      <td>Lost</td>\n",
              "      <td>Non target</td>\n",
              "      <td>/eng</td>\n",
              "      <td>discovery_DE</td>\n",
              "      <td>website</td>\n",
              "      <td>...</td>\n",
              "      <td>NaN</td>\n",
              "      <td>2024-06-21 13:21:00</td>\n",
              "      <td>NaN</td>\n",
              "      <td>NaN</td>\n",
              "      <td>0</td>\n",
              "      <td>0</td>\n",
              "      <td>5805028000056876176</td>\n",
              "      <td>NaN</td>\n",
              "      <td>Неизвестно</td>\n",
              "      <td>3192.0</td>\n",
              "    </tr>\n",
              "  </tbody>\n",
              "</table>\n",
              "<p>5 rows × 24 columns</p>\n",
              "</div>\n",
              "    <div class=\"colab-df-buttons\">\n",
              "\n",
              "  <div class=\"colab-df-container\">\n",
              "    <button class=\"colab-df-convert\" onclick=\"convertToInteractive('df-65bc1b81-91d2-4060-b298-4448318b4307')\"\n",
              "            title=\"Convert this dataframe to an interactive table.\"\n",
              "            style=\"display:none;\">\n",
              "\n",
              "  <svg xmlns=\"http://www.w3.org/2000/svg\" height=\"24px\" viewBox=\"0 -960 960 960\">\n",
              "    <path d=\"M120-120v-720h720v720H120Zm60-500h600v-160H180v160Zm220 220h160v-160H400v160Zm0 220h160v-160H400v160ZM180-400h160v-160H180v160Zm440 0h160v-160H620v160ZM180-180h160v-160H180v160Zm440 0h160v-160H620v160Z\"/>\n",
              "  </svg>\n",
              "    </button>\n",
              "\n",
              "  <style>\n",
              "    .colab-df-container {\n",
              "      display:flex;\n",
              "      gap: 12px;\n",
              "    }\n",
              "\n",
              "    .colab-df-convert {\n",
              "      background-color: #E8F0FE;\n",
              "      border: none;\n",
              "      border-radius: 50%;\n",
              "      cursor: pointer;\n",
              "      display: none;\n",
              "      fill: #1967D2;\n",
              "      height: 32px;\n",
              "      padding: 0 0 0 0;\n",
              "      width: 32px;\n",
              "    }\n",
              "\n",
              "    .colab-df-convert:hover {\n",
              "      background-color: #E2EBFA;\n",
              "      box-shadow: 0px 1px 2px rgba(60, 64, 67, 0.3), 0px 1px 3px 1px rgba(60, 64, 67, 0.15);\n",
              "      fill: #174EA6;\n",
              "    }\n",
              "\n",
              "    .colab-df-buttons div {\n",
              "      margin-bottom: 4px;\n",
              "    }\n",
              "\n",
              "    [theme=dark] .colab-df-convert {\n",
              "      background-color: #3B4455;\n",
              "      fill: #D2E3FC;\n",
              "    }\n",
              "\n",
              "    [theme=dark] .colab-df-convert:hover {\n",
              "      background-color: #434B5C;\n",
              "      box-shadow: 0px 1px 3px 1px rgba(0, 0, 0, 0.15);\n",
              "      filter: drop-shadow(0px 1px 2px rgba(0, 0, 0, 0.3));\n",
              "      fill: #FFFFFF;\n",
              "    }\n",
              "  </style>\n",
              "\n",
              "    <script>\n",
              "      const buttonEl =\n",
              "        document.querySelector('#df-65bc1b81-91d2-4060-b298-4448318b4307 button.colab-df-convert');\n",
              "      buttonEl.style.display =\n",
              "        google.colab.kernel.accessAllowed ? 'block' : 'none';\n",
              "\n",
              "      async function convertToInteractive(key) {\n",
              "        const element = document.querySelector('#df-65bc1b81-91d2-4060-b298-4448318b4307');\n",
              "        const dataTable =\n",
              "          await google.colab.kernel.invokeFunction('convertToInteractive',\n",
              "                                                    [key], {});\n",
              "        if (!dataTable) return;\n",
              "\n",
              "        const docLinkHtml = 'Like what you see? Visit the ' +\n",
              "          '<a target=\"_blank\" href=https://colab.research.google.com/notebooks/data_table.ipynb>data table notebook</a>'\n",
              "          + ' to learn more about interactive tables.';\n",
              "        element.innerHTML = '';\n",
              "        dataTable['output_type'] = 'display_data';\n",
              "        await google.colab.output.renderOutput(dataTable, element);\n",
              "        const docLink = document.createElement('div');\n",
              "        docLink.innerHTML = docLinkHtml;\n",
              "        element.appendChild(docLink);\n",
              "      }\n",
              "    </script>\n",
              "  </div>\n",
              "\n",
              "\n",
              "<div id=\"df-e09cde78-de26-4690-a96f-a97d27b55d4f\">\n",
              "  <button class=\"colab-df-quickchart\" onclick=\"quickchart('df-e09cde78-de26-4690-a96f-a97d27b55d4f')\"\n",
              "            title=\"Suggest charts\"\n",
              "            style=\"display:none;\">\n",
              "\n",
              "<svg xmlns=\"http://www.w3.org/2000/svg\" height=\"24px\"viewBox=\"0 0 24 24\"\n",
              "     width=\"24px\">\n",
              "    <g>\n",
              "        <path d=\"M19 3H5c-1.1 0-2 .9-2 2v14c0 1.1.9 2 2 2h14c1.1 0 2-.9 2-2V5c0-1.1-.9-2-2-2zM9 17H7v-7h2v7zm4 0h-2V7h2v10zm4 0h-2v-4h2v4z\"/>\n",
              "    </g>\n",
              "</svg>\n",
              "  </button>\n",
              "\n",
              "<style>\n",
              "  .colab-df-quickchart {\n",
              "      --bg-color: #E8F0FE;\n",
              "      --fill-color: #1967D2;\n",
              "      --hover-bg-color: #E2EBFA;\n",
              "      --hover-fill-color: #174EA6;\n",
              "      --disabled-fill-color: #AAA;\n",
              "      --disabled-bg-color: #DDD;\n",
              "  }\n",
              "\n",
              "  [theme=dark] .colab-df-quickchart {\n",
              "      --bg-color: #3B4455;\n",
              "      --fill-color: #D2E3FC;\n",
              "      --hover-bg-color: #434B5C;\n",
              "      --hover-fill-color: #FFFFFF;\n",
              "      --disabled-bg-color: #3B4455;\n",
              "      --disabled-fill-color: #666;\n",
              "  }\n",
              "\n",
              "  .colab-df-quickchart {\n",
              "    background-color: var(--bg-color);\n",
              "    border: none;\n",
              "    border-radius: 50%;\n",
              "    cursor: pointer;\n",
              "    display: none;\n",
              "    fill: var(--fill-color);\n",
              "    height: 32px;\n",
              "    padding: 0;\n",
              "    width: 32px;\n",
              "  }\n",
              "\n",
              "  .colab-df-quickchart:hover {\n",
              "    background-color: var(--hover-bg-color);\n",
              "    box-shadow: 0 1px 2px rgba(60, 64, 67, 0.3), 0 1px 3px 1px rgba(60, 64, 67, 0.15);\n",
              "    fill: var(--button-hover-fill-color);\n",
              "  }\n",
              "\n",
              "  .colab-df-quickchart-complete:disabled,\n",
              "  .colab-df-quickchart-complete:disabled:hover {\n",
              "    background-color: var(--disabled-bg-color);\n",
              "    fill: var(--disabled-fill-color);\n",
              "    box-shadow: none;\n",
              "  }\n",
              "\n",
              "  .colab-df-spinner {\n",
              "    border: 2px solid var(--fill-color);\n",
              "    border-color: transparent;\n",
              "    border-bottom-color: var(--fill-color);\n",
              "    animation:\n",
              "      spin 1s steps(1) infinite;\n",
              "  }\n",
              "\n",
              "  @keyframes spin {\n",
              "    0% {\n",
              "      border-color: transparent;\n",
              "      border-bottom-color: var(--fill-color);\n",
              "      border-left-color: var(--fill-color);\n",
              "    }\n",
              "    20% {\n",
              "      border-color: transparent;\n",
              "      border-left-color: var(--fill-color);\n",
              "      border-top-color: var(--fill-color);\n",
              "    }\n",
              "    30% {\n",
              "      border-color: transparent;\n",
              "      border-left-color: var(--fill-color);\n",
              "      border-top-color: var(--fill-color);\n",
              "      border-right-color: var(--fill-color);\n",
              "    }\n",
              "    40% {\n",
              "      border-color: transparent;\n",
              "      border-right-color: var(--fill-color);\n",
              "      border-top-color: var(--fill-color);\n",
              "    }\n",
              "    60% {\n",
              "      border-color: transparent;\n",
              "      border-right-color: var(--fill-color);\n",
              "    }\n",
              "    80% {\n",
              "      border-color: transparent;\n",
              "      border-right-color: var(--fill-color);\n",
              "      border-bottom-color: var(--fill-color);\n",
              "    }\n",
              "    90% {\n",
              "      border-color: transparent;\n",
              "      border-bottom-color: var(--fill-color);\n",
              "    }\n",
              "  }\n",
              "</style>\n",
              "\n",
              "  <script>\n",
              "    async function quickchart(key) {\n",
              "      const quickchartButtonEl =\n",
              "        document.querySelector('#' + key + ' button');\n",
              "      quickchartButtonEl.disabled = true;  // To prevent multiple clicks.\n",
              "      quickchartButtonEl.classList.add('colab-df-spinner');\n",
              "      try {\n",
              "        const charts = await google.colab.kernel.invokeFunction(\n",
              "            'suggestCharts', [key], {});\n",
              "      } catch (error) {\n",
              "        console.error('Error during call to suggestCharts:', error);\n",
              "      }\n",
              "      quickchartButtonEl.classList.remove('colab-df-spinner');\n",
              "      quickchartButtonEl.classList.add('colab-df-quickchart-complete');\n",
              "    }\n",
              "    (() => {\n",
              "      let quickchartButtonEl =\n",
              "        document.querySelector('#df-e09cde78-de26-4690-a96f-a97d27b55d4f button');\n",
              "      quickchartButtonEl.style.display =\n",
              "        google.colab.kernel.accessAllowed ? 'block' : 'none';\n",
              "    })();\n",
              "  </script>\n",
              "</div>\n",
              "\n",
              "    </div>\n",
              "  </div>\n"
            ],
            "application/vnd.google.colaboratory.intrinsic+json": {
              "type": "dataframe",
              "variable_name": "deals"
            }
          },
          "metadata": {},
          "execution_count": 3
        }
      ]
    },
    {
      "cell_type": "code",
      "source": [
        "spend.head()"
      ],
      "metadata": {
        "colab": {
          "base_uri": "https://localhost:8080/",
          "height": 206
        },
        "id": "S9hLOJKf_Jzc",
        "outputId": "6cc52e6c-bf7a-4a17-c65f-ec65bc2bb7d1"
      },
      "execution_count": null,
      "outputs": [
        {
          "output_type": "execute_result",
          "data": {
            "text/plain": [
              "   Unnamed: 0       Date        Source               Campaign  Impressions  \\\n",
              "0           0 2023-07-03    Google Ads         gen_analyst_DE            6   \n",
              "1           1 2023-07-03    Google Ads  performancemax_eng_DE            4   \n",
              "2           2 2023-07-03  Facebook Ads                    NaN            0   \n",
              "3           3 2023-07-03    Google Ads                    NaN            0   \n",
              "4           4 2023-07-03           CRM                    NaN            0   \n",
              "\n",
              "   Spend  Clicks AdGroup   Ad  \n",
              "0   0.00       0     NaN  NaN  \n",
              "1   0.01       1     NaN  NaN  \n",
              "2   0.00       0     NaN  NaN  \n",
              "3   0.00       0     NaN  NaN  \n",
              "4   0.00       0     NaN  NaN  "
            ],
            "text/html": [
              "\n",
              "  <div id=\"df-edb02f00-03d2-4e23-bf03-6b9df611a6bd\" class=\"colab-df-container\">\n",
              "    <div>\n",
              "<style scoped>\n",
              "    .dataframe tbody tr th:only-of-type {\n",
              "        vertical-align: middle;\n",
              "    }\n",
              "\n",
              "    .dataframe tbody tr th {\n",
              "        vertical-align: top;\n",
              "    }\n",
              "\n",
              "    .dataframe thead th {\n",
              "        text-align: right;\n",
              "    }\n",
              "</style>\n",
              "<table border=\"1\" class=\"dataframe\">\n",
              "  <thead>\n",
              "    <tr style=\"text-align: right;\">\n",
              "      <th></th>\n",
              "      <th>Unnamed: 0</th>\n",
              "      <th>Date</th>\n",
              "      <th>Source</th>\n",
              "      <th>Campaign</th>\n",
              "      <th>Impressions</th>\n",
              "      <th>Spend</th>\n",
              "      <th>Clicks</th>\n",
              "      <th>AdGroup</th>\n",
              "      <th>Ad</th>\n",
              "    </tr>\n",
              "  </thead>\n",
              "  <tbody>\n",
              "    <tr>\n",
              "      <th>0</th>\n",
              "      <td>0</td>\n",
              "      <td>2023-07-03</td>\n",
              "      <td>Google Ads</td>\n",
              "      <td>gen_analyst_DE</td>\n",
              "      <td>6</td>\n",
              "      <td>0.00</td>\n",
              "      <td>0</td>\n",
              "      <td>NaN</td>\n",
              "      <td>NaN</td>\n",
              "    </tr>\n",
              "    <tr>\n",
              "      <th>1</th>\n",
              "      <td>1</td>\n",
              "      <td>2023-07-03</td>\n",
              "      <td>Google Ads</td>\n",
              "      <td>performancemax_eng_DE</td>\n",
              "      <td>4</td>\n",
              "      <td>0.01</td>\n",
              "      <td>1</td>\n",
              "      <td>NaN</td>\n",
              "      <td>NaN</td>\n",
              "    </tr>\n",
              "    <tr>\n",
              "      <th>2</th>\n",
              "      <td>2</td>\n",
              "      <td>2023-07-03</td>\n",
              "      <td>Facebook Ads</td>\n",
              "      <td>NaN</td>\n",
              "      <td>0</td>\n",
              "      <td>0.00</td>\n",
              "      <td>0</td>\n",
              "      <td>NaN</td>\n",
              "      <td>NaN</td>\n",
              "    </tr>\n",
              "    <tr>\n",
              "      <th>3</th>\n",
              "      <td>3</td>\n",
              "      <td>2023-07-03</td>\n",
              "      <td>Google Ads</td>\n",
              "      <td>NaN</td>\n",
              "      <td>0</td>\n",
              "      <td>0.00</td>\n",
              "      <td>0</td>\n",
              "      <td>NaN</td>\n",
              "      <td>NaN</td>\n",
              "    </tr>\n",
              "    <tr>\n",
              "      <th>4</th>\n",
              "      <td>4</td>\n",
              "      <td>2023-07-03</td>\n",
              "      <td>CRM</td>\n",
              "      <td>NaN</td>\n",
              "      <td>0</td>\n",
              "      <td>0.00</td>\n",
              "      <td>0</td>\n",
              "      <td>NaN</td>\n",
              "      <td>NaN</td>\n",
              "    </tr>\n",
              "  </tbody>\n",
              "</table>\n",
              "</div>\n",
              "    <div class=\"colab-df-buttons\">\n",
              "\n",
              "  <div class=\"colab-df-container\">\n",
              "    <button class=\"colab-df-convert\" onclick=\"convertToInteractive('df-edb02f00-03d2-4e23-bf03-6b9df611a6bd')\"\n",
              "            title=\"Convert this dataframe to an interactive table.\"\n",
              "            style=\"display:none;\">\n",
              "\n",
              "  <svg xmlns=\"http://www.w3.org/2000/svg\" height=\"24px\" viewBox=\"0 -960 960 960\">\n",
              "    <path d=\"M120-120v-720h720v720H120Zm60-500h600v-160H180v160Zm220 220h160v-160H400v160Zm0 220h160v-160H400v160ZM180-400h160v-160H180v160Zm440 0h160v-160H620v160ZM180-180h160v-160H180v160Zm440 0h160v-160H620v160Z\"/>\n",
              "  </svg>\n",
              "    </button>\n",
              "\n",
              "  <style>\n",
              "    .colab-df-container {\n",
              "      display:flex;\n",
              "      gap: 12px;\n",
              "    }\n",
              "\n",
              "    .colab-df-convert {\n",
              "      background-color: #E8F0FE;\n",
              "      border: none;\n",
              "      border-radius: 50%;\n",
              "      cursor: pointer;\n",
              "      display: none;\n",
              "      fill: #1967D2;\n",
              "      height: 32px;\n",
              "      padding: 0 0 0 0;\n",
              "      width: 32px;\n",
              "    }\n",
              "\n",
              "    .colab-df-convert:hover {\n",
              "      background-color: #E2EBFA;\n",
              "      box-shadow: 0px 1px 2px rgba(60, 64, 67, 0.3), 0px 1px 3px 1px rgba(60, 64, 67, 0.15);\n",
              "      fill: #174EA6;\n",
              "    }\n",
              "\n",
              "    .colab-df-buttons div {\n",
              "      margin-bottom: 4px;\n",
              "    }\n",
              "\n",
              "    [theme=dark] .colab-df-convert {\n",
              "      background-color: #3B4455;\n",
              "      fill: #D2E3FC;\n",
              "    }\n",
              "\n",
              "    [theme=dark] .colab-df-convert:hover {\n",
              "      background-color: #434B5C;\n",
              "      box-shadow: 0px 1px 3px 1px rgba(0, 0, 0, 0.15);\n",
              "      filter: drop-shadow(0px 1px 2px rgba(0, 0, 0, 0.3));\n",
              "      fill: #FFFFFF;\n",
              "    }\n",
              "  </style>\n",
              "\n",
              "    <script>\n",
              "      const buttonEl =\n",
              "        document.querySelector('#df-edb02f00-03d2-4e23-bf03-6b9df611a6bd button.colab-df-convert');\n",
              "      buttonEl.style.display =\n",
              "        google.colab.kernel.accessAllowed ? 'block' : 'none';\n",
              "\n",
              "      async function convertToInteractive(key) {\n",
              "        const element = document.querySelector('#df-edb02f00-03d2-4e23-bf03-6b9df611a6bd');\n",
              "        const dataTable =\n",
              "          await google.colab.kernel.invokeFunction('convertToInteractive',\n",
              "                                                    [key], {});\n",
              "        if (!dataTable) return;\n",
              "\n",
              "        const docLinkHtml = 'Like what you see? Visit the ' +\n",
              "          '<a target=\"_blank\" href=https://colab.research.google.com/notebooks/data_table.ipynb>data table notebook</a>'\n",
              "          + ' to learn more about interactive tables.';\n",
              "        element.innerHTML = '';\n",
              "        dataTable['output_type'] = 'display_data';\n",
              "        await google.colab.output.renderOutput(dataTable, element);\n",
              "        const docLink = document.createElement('div');\n",
              "        docLink.innerHTML = docLinkHtml;\n",
              "        element.appendChild(docLink);\n",
              "      }\n",
              "    </script>\n",
              "  </div>\n",
              "\n",
              "\n",
              "<div id=\"df-f9f924f9-9396-44ed-bd50-73177e39a6d8\">\n",
              "  <button class=\"colab-df-quickchart\" onclick=\"quickchart('df-f9f924f9-9396-44ed-bd50-73177e39a6d8')\"\n",
              "            title=\"Suggest charts\"\n",
              "            style=\"display:none;\">\n",
              "\n",
              "<svg xmlns=\"http://www.w3.org/2000/svg\" height=\"24px\"viewBox=\"0 0 24 24\"\n",
              "     width=\"24px\">\n",
              "    <g>\n",
              "        <path d=\"M19 3H5c-1.1 0-2 .9-2 2v14c0 1.1.9 2 2 2h14c1.1 0 2-.9 2-2V5c0-1.1-.9-2-2-2zM9 17H7v-7h2v7zm4 0h-2V7h2v10zm4 0h-2v-4h2v4z\"/>\n",
              "    </g>\n",
              "</svg>\n",
              "  </button>\n",
              "\n",
              "<style>\n",
              "  .colab-df-quickchart {\n",
              "      --bg-color: #E8F0FE;\n",
              "      --fill-color: #1967D2;\n",
              "      --hover-bg-color: #E2EBFA;\n",
              "      --hover-fill-color: #174EA6;\n",
              "      --disabled-fill-color: #AAA;\n",
              "      --disabled-bg-color: #DDD;\n",
              "  }\n",
              "\n",
              "  [theme=dark] .colab-df-quickchart {\n",
              "      --bg-color: #3B4455;\n",
              "      --fill-color: #D2E3FC;\n",
              "      --hover-bg-color: #434B5C;\n",
              "      --hover-fill-color: #FFFFFF;\n",
              "      --disabled-bg-color: #3B4455;\n",
              "      --disabled-fill-color: #666;\n",
              "  }\n",
              "\n",
              "  .colab-df-quickchart {\n",
              "    background-color: var(--bg-color);\n",
              "    border: none;\n",
              "    border-radius: 50%;\n",
              "    cursor: pointer;\n",
              "    display: none;\n",
              "    fill: var(--fill-color);\n",
              "    height: 32px;\n",
              "    padding: 0;\n",
              "    width: 32px;\n",
              "  }\n",
              "\n",
              "  .colab-df-quickchart:hover {\n",
              "    background-color: var(--hover-bg-color);\n",
              "    box-shadow: 0 1px 2px rgba(60, 64, 67, 0.3), 0 1px 3px 1px rgba(60, 64, 67, 0.15);\n",
              "    fill: var(--button-hover-fill-color);\n",
              "  }\n",
              "\n",
              "  .colab-df-quickchart-complete:disabled,\n",
              "  .colab-df-quickchart-complete:disabled:hover {\n",
              "    background-color: var(--disabled-bg-color);\n",
              "    fill: var(--disabled-fill-color);\n",
              "    box-shadow: none;\n",
              "  }\n",
              "\n",
              "  .colab-df-spinner {\n",
              "    border: 2px solid var(--fill-color);\n",
              "    border-color: transparent;\n",
              "    border-bottom-color: var(--fill-color);\n",
              "    animation:\n",
              "      spin 1s steps(1) infinite;\n",
              "  }\n",
              "\n",
              "  @keyframes spin {\n",
              "    0% {\n",
              "      border-color: transparent;\n",
              "      border-bottom-color: var(--fill-color);\n",
              "      border-left-color: var(--fill-color);\n",
              "    }\n",
              "    20% {\n",
              "      border-color: transparent;\n",
              "      border-left-color: var(--fill-color);\n",
              "      border-top-color: var(--fill-color);\n",
              "    }\n",
              "    30% {\n",
              "      border-color: transparent;\n",
              "      border-left-color: var(--fill-color);\n",
              "      border-top-color: var(--fill-color);\n",
              "      border-right-color: var(--fill-color);\n",
              "    }\n",
              "    40% {\n",
              "      border-color: transparent;\n",
              "      border-right-color: var(--fill-color);\n",
              "      border-top-color: var(--fill-color);\n",
              "    }\n",
              "    60% {\n",
              "      border-color: transparent;\n",
              "      border-right-color: var(--fill-color);\n",
              "    }\n",
              "    80% {\n",
              "      border-color: transparent;\n",
              "      border-right-color: var(--fill-color);\n",
              "      border-bottom-color: var(--fill-color);\n",
              "    }\n",
              "    90% {\n",
              "      border-color: transparent;\n",
              "      border-bottom-color: var(--fill-color);\n",
              "    }\n",
              "  }\n",
              "</style>\n",
              "\n",
              "  <script>\n",
              "    async function quickchart(key) {\n",
              "      const quickchartButtonEl =\n",
              "        document.querySelector('#' + key + ' button');\n",
              "      quickchartButtonEl.disabled = true;  // To prevent multiple clicks.\n",
              "      quickchartButtonEl.classList.add('colab-df-spinner');\n",
              "      try {\n",
              "        const charts = await google.colab.kernel.invokeFunction(\n",
              "            'suggestCharts', [key], {});\n",
              "      } catch (error) {\n",
              "        console.error('Error during call to suggestCharts:', error);\n",
              "      }\n",
              "      quickchartButtonEl.classList.remove('colab-df-spinner');\n",
              "      quickchartButtonEl.classList.add('colab-df-quickchart-complete');\n",
              "    }\n",
              "    (() => {\n",
              "      let quickchartButtonEl =\n",
              "        document.querySelector('#df-f9f924f9-9396-44ed-bd50-73177e39a6d8 button');\n",
              "      quickchartButtonEl.style.display =\n",
              "        google.colab.kernel.accessAllowed ? 'block' : 'none';\n",
              "    })();\n",
              "  </script>\n",
              "</div>\n",
              "\n",
              "    </div>\n",
              "  </div>\n"
            ],
            "application/vnd.google.colaboratory.intrinsic+json": {
              "type": "dataframe",
              "variable_name": "spend",
              "summary": "{\n  \"name\": \"spend\",\n  \"rows\": 15057,\n  \"fields\": [\n    {\n      \"column\": \"Unnamed: 0\",\n      \"properties\": {\n        \"dtype\": \"number\",\n        \"std\": 5971,\n        \"min\": 0,\n        \"max\": 20778,\n        \"num_unique_values\": 15057,\n        \"samples\": [\n          3033,\n          5720,\n          13333\n        ],\n        \"semantic_type\": \"\",\n        \"description\": \"\"\n      }\n    },\n    {\n      \"column\": \"Date\",\n      \"properties\": {\n        \"dtype\": \"date\",\n        \"min\": \"2023-07-03 00:00:00\",\n        \"max\": \"2024-06-21 00:00:00\",\n        \"num_unique_values\": 355,\n        \"samples\": [\n          \"2024-02-15 00:00:00\",\n          \"2023-08-14 00:00:00\",\n          \"2024-03-15 00:00:00\"\n        ],\n        \"semantic_type\": \"\",\n        \"description\": \"\"\n      }\n    },\n    {\n      \"column\": \"Source\",\n      \"properties\": {\n        \"dtype\": \"category\",\n        \"num_unique_values\": 14,\n        \"samples\": [\n          \"Webinar\",\n          \"Partnership\",\n          \"Google Ads\"\n        ],\n        \"semantic_type\": \"\",\n        \"description\": \"\"\n      }\n    },\n    {\n      \"column\": \"Campaign\",\n      \"properties\": {\n        \"dtype\": \"category\",\n        \"num_unique_values\": 51,\n        \"samples\": [\n          \"08.04.24wide_webinar_DE\",\n          \"1performancemax_wide_PL\",\n          \"20.05.24interests_DE\"\n        ],\n        \"semantic_type\": \"\",\n        \"description\": \"\"\n      }\n    },\n    {\n      \"column\": \"Impressions\",\n      \"properties\": {\n        \"dtype\": \"number\",\n        \"std\": 13323,\n        \"min\": 0,\n        \"max\": 431445,\n        \"num_unique_values\": 4003,\n        \"samples\": [\n          511,\n          1427,\n          1012\n        ],\n        \"semantic_type\": \"\",\n        \"description\": \"\"\n      }\n    },\n    {\n      \"column\": \"Spend\",\n      \"properties\": {\n        \"dtype\": \"number\",\n        \"std\": 30.994234749033804,\n        \"min\": 0.0,\n        \"max\": 774.0,\n        \"num_unique_values\": 2859,\n        \"samples\": [\n          11.78,\n          69.39,\n          2.13\n        ],\n        \"semantic_type\": \"\",\n        \"description\": \"\"\n      }\n    },\n    {\n      \"column\": \"Clicks\",\n      \"properties\": {\n        \"dtype\": \"number\",\n        \"std\": 97,\n        \"min\": 0,\n        \"max\": 2415,\n        \"num_unique_values\": 552,\n        \"samples\": [\n          376,\n          73,\n          49\n        ],\n        \"semantic_type\": \"\",\n        \"description\": \"\"\n      }\n    },\n    {\n      \"column\": \"AdGroup\",\n      \"properties\": {\n        \"dtype\": \"category\",\n        \"num_unique_values\": 24,\n        \"samples\": [\n          \"LAL1\",\n          \"retargeting\",\n          \"women\"\n        ],\n        \"semantic_type\": \"\",\n        \"description\": \"\"\n      }\n    },\n    {\n      \"column\": \"Ad\",\n      \"properties\": {\n        \"dtype\": \"category\",\n        \"num_unique_values\": 176,\n        \"samples\": [\n          \"v8com\",\n          \"v11com\",\n          \"bloggervideo1\"\n        ],\n        \"semantic_type\": \"\",\n        \"description\": \"\"\n      }\n    }\n  ]\n}"
            }
          },
          "metadata": {},
          "execution_count": 4
        }
      ]
    },
    {
      "cell_type": "markdown",
      "source": [
        "============================================================================\n",
        "\n",
        "# 2. Точки роста бизнеса с помощью юнит-экономики"
      ],
      "metadata": {
        "id": "iR2dRnqlBmVv"
      }
    },
    {
      "cell_type": "markdown",
      "source": [
        "*   Количество сделок по каждому продукту\n",
        "*   Количество успешных сделок по каждому продукту (со статусом «Оплата выполнена»)\n",
        "*   Общая сумма оплаты по успешным сделкам по продукту\n",
        "*   Коэффициент конверсии по каждому продукту\n",
        "\n"
      ],
      "metadata": {
        "id": "WPDGE2qZu7P2"
      }
    },
    {
      "cell_type": "code",
      "source": [
        "# UA (Users) - количество лидов (юнитов масштабирования)\n",
        "users = deals.groupby(['Product', 'Education Type'],\n",
        "                      observed=True)['Id'].nunique().rename('UA')\n",
        "\n",
        "users"
      ],
      "metadata": {
        "colab": {
          "base_uri": "https://localhost:8080/",
          "height": 303
        },
        "id": "VADvKtleNGLH",
        "outputId": "1003f87a-e95b-4880-c5ca-328626389769"
      },
      "execution_count": null,
      "outputs": [
        {
          "output_type": "execute_result",
          "data": {
            "text/plain": [
              "Product            Education Type\n",
              "Digital Marketing  Evening            251\n",
              "                   Morning           1702\n",
              "UX/UI Design       Evening            198\n",
              "                   Morning            815\n",
              "Web Developer      Evening              1\n",
              "                   Morning            566\n",
              "Name: UA, dtype: int64"
            ],
            "text/html": [
              "<div>\n",
              "<style scoped>\n",
              "    .dataframe tbody tr th:only-of-type {\n",
              "        vertical-align: middle;\n",
              "    }\n",
              "\n",
              "    .dataframe tbody tr th {\n",
              "        vertical-align: top;\n",
              "    }\n",
              "\n",
              "    .dataframe thead th {\n",
              "        text-align: right;\n",
              "    }\n",
              "</style>\n",
              "<table border=\"1\" class=\"dataframe\">\n",
              "  <thead>\n",
              "    <tr style=\"text-align: right;\">\n",
              "      <th></th>\n",
              "      <th></th>\n",
              "      <th>UA</th>\n",
              "    </tr>\n",
              "    <tr>\n",
              "      <th>Product</th>\n",
              "      <th>Education Type</th>\n",
              "      <th></th>\n",
              "    </tr>\n",
              "  </thead>\n",
              "  <tbody>\n",
              "    <tr>\n",
              "      <th rowspan=\"2\" valign=\"top\">Digital Marketing</th>\n",
              "      <th>Evening</th>\n",
              "      <td>251</td>\n",
              "    </tr>\n",
              "    <tr>\n",
              "      <th>Morning</th>\n",
              "      <td>1702</td>\n",
              "    </tr>\n",
              "    <tr>\n",
              "      <th rowspan=\"2\" valign=\"top\">UX/UI Design</th>\n",
              "      <th>Evening</th>\n",
              "      <td>198</td>\n",
              "    </tr>\n",
              "    <tr>\n",
              "      <th>Morning</th>\n",
              "      <td>815</td>\n",
              "    </tr>\n",
              "    <tr>\n",
              "      <th rowspan=\"2\" valign=\"top\">Web Developer</th>\n",
              "      <th>Evening</th>\n",
              "      <td>1</td>\n",
              "    </tr>\n",
              "    <tr>\n",
              "      <th>Morning</th>\n",
              "      <td>566</td>\n",
              "    </tr>\n",
              "  </tbody>\n",
              "</table>\n",
              "</div><br><label><b>dtype:</b> int64</label>"
            ]
          },
          "metadata": {},
          "execution_count": 5
        }
      ]
    },
    {
      "cell_type": "code",
      "source": [
        "# B (Bayers) - количество клиентов\n",
        "bayers = deals[deals['Stage'] == 'Payment Done']\\\n",
        "        .groupby(['Product', 'Education Type'], observed=True\n",
        "          )['Id'].nunique().rename('Bayers')\n",
        "\n",
        "bayers"
      ],
      "metadata": {
        "colab": {
          "base_uri": "https://localhost:8080/",
          "height": 272
        },
        "id": "LRFKFR6DNGIG",
        "outputId": "5ad3ac2b-105f-4d85-f8b2-ac12f4a903f6"
      },
      "execution_count": null,
      "outputs": [
        {
          "output_type": "execute_result",
          "data": {
            "text/plain": [
              "Product            Education Type\n",
              "Digital Marketing  Evening           113\n",
              "                   Morning           361\n",
              "UX/UI Design       Evening            57\n",
              "                   Morning           170\n",
              "Web Developer      Morning           137\n",
              "Name: Bayers, dtype: int64"
            ],
            "text/html": [
              "<div>\n",
              "<style scoped>\n",
              "    .dataframe tbody tr th:only-of-type {\n",
              "        vertical-align: middle;\n",
              "    }\n",
              "\n",
              "    .dataframe tbody tr th {\n",
              "        vertical-align: top;\n",
              "    }\n",
              "\n",
              "    .dataframe thead th {\n",
              "        text-align: right;\n",
              "    }\n",
              "</style>\n",
              "<table border=\"1\" class=\"dataframe\">\n",
              "  <thead>\n",
              "    <tr style=\"text-align: right;\">\n",
              "      <th></th>\n",
              "      <th></th>\n",
              "      <th>Bayers</th>\n",
              "    </tr>\n",
              "    <tr>\n",
              "      <th>Product</th>\n",
              "      <th>Education Type</th>\n",
              "      <th></th>\n",
              "    </tr>\n",
              "  </thead>\n",
              "  <tbody>\n",
              "    <tr>\n",
              "      <th rowspan=\"2\" valign=\"top\">Digital Marketing</th>\n",
              "      <th>Evening</th>\n",
              "      <td>113</td>\n",
              "    </tr>\n",
              "    <tr>\n",
              "      <th>Morning</th>\n",
              "      <td>361</td>\n",
              "    </tr>\n",
              "    <tr>\n",
              "      <th rowspan=\"2\" valign=\"top\">UX/UI Design</th>\n",
              "      <th>Evening</th>\n",
              "      <td>57</td>\n",
              "    </tr>\n",
              "    <tr>\n",
              "      <th>Morning</th>\n",
              "      <td>170</td>\n",
              "    </tr>\n",
              "    <tr>\n",
              "      <th>Web Developer</th>\n",
              "      <th>Morning</th>\n",
              "      <td>137</td>\n",
              "    </tr>\n",
              "  </tbody>\n",
              "</table>\n",
              "</div><br><label><b>dtype:</b> int64</label>"
            ]
          },
          "metadata": {},
          "execution_count": 6
        }
      ]
    },
    {
      "cell_type": "code",
      "source": [
        "# Total Deals (Total successful deals) - количество успешных сделок\n",
        "total_deals = deals[deals['Stage'] == 'Payment Done']\\\n",
        "    .groupby(['Product', 'Education Type'],\n",
        "             observed=True)['Id'].count().rename('Total Deals')\n",
        "\n",
        "total_deals"
      ],
      "metadata": {
        "colab": {
          "base_uri": "https://localhost:8080/",
          "height": 272
        },
        "id": "OL6mlIdnNGBn",
        "outputId": "0af4bc85-ef73-401c-f5c0-508d1830daff"
      },
      "execution_count": null,
      "outputs": [
        {
          "output_type": "execute_result",
          "data": {
            "text/plain": [
              "Product            Education Type\n",
              "Digital Marketing  Evening           113\n",
              "                   Morning           361\n",
              "UX/UI Design       Evening            57\n",
              "                   Morning           170\n",
              "Web Developer      Morning           137\n",
              "Name: Total Deals, dtype: int64"
            ],
            "text/html": [
              "<div>\n",
              "<style scoped>\n",
              "    .dataframe tbody tr th:only-of-type {\n",
              "        vertical-align: middle;\n",
              "    }\n",
              "\n",
              "    .dataframe tbody tr th {\n",
              "        vertical-align: top;\n",
              "    }\n",
              "\n",
              "    .dataframe thead th {\n",
              "        text-align: right;\n",
              "    }\n",
              "</style>\n",
              "<table border=\"1\" class=\"dataframe\">\n",
              "  <thead>\n",
              "    <tr style=\"text-align: right;\">\n",
              "      <th></th>\n",
              "      <th></th>\n",
              "      <th>Total Deals</th>\n",
              "    </tr>\n",
              "    <tr>\n",
              "      <th>Product</th>\n",
              "      <th>Education Type</th>\n",
              "      <th></th>\n",
              "    </tr>\n",
              "  </thead>\n",
              "  <tbody>\n",
              "    <tr>\n",
              "      <th rowspan=\"2\" valign=\"top\">Digital Marketing</th>\n",
              "      <th>Evening</th>\n",
              "      <td>113</td>\n",
              "    </tr>\n",
              "    <tr>\n",
              "      <th>Morning</th>\n",
              "      <td>361</td>\n",
              "    </tr>\n",
              "    <tr>\n",
              "      <th rowspan=\"2\" valign=\"top\">UX/UI Design</th>\n",
              "      <th>Evening</th>\n",
              "      <td>57</td>\n",
              "    </tr>\n",
              "    <tr>\n",
              "      <th>Morning</th>\n",
              "      <td>170</td>\n",
              "    </tr>\n",
              "    <tr>\n",
              "      <th>Web Developer</th>\n",
              "      <th>Morning</th>\n",
              "      <td>137</td>\n",
              "    </tr>\n",
              "  </tbody>\n",
              "</table>\n",
              "</div><br><label><b>dtype:</b> int64</label>"
            ]
          },
          "metadata": {},
          "execution_count": 7
        }
      ]
    },
    {
      "cell_type": "code",
      "source": [
        "# Gross Revenue (Total Sales) - выручка общая\n",
        "gross_revenue = deals[deals['Stage'] == 'Payment Done']\\\n",
        "         .groupby(['Product', 'Education Type'],\n",
        "         observed=True)['Offer Total Amount'].sum().rename('Gross Revenue')\n",
        "\n",
        "gross_revenue"
      ],
      "metadata": {
        "colab": {
          "base_uri": "https://localhost:8080/",
          "height": 272
        },
        "id": "qs4sDEVG658O",
        "outputId": "22629a60-bff6-4c9d-be83-41cff523aef2"
      },
      "execution_count": null,
      "outputs": [
        {
          "output_type": "execute_result",
          "data": {
            "text/plain": [
              "Product            Education Type\n",
              "Digital Marketing  Evening            412300\n",
              "                   Morning           3522200\n",
              "UX/UI Design       Evening            214000\n",
              "                   Morning           1608400\n",
              "Web Developer      Morning            583200\n",
              "Name: Gross Revenue, dtype: int64"
            ],
            "text/html": [
              "<div>\n",
              "<style scoped>\n",
              "    .dataframe tbody tr th:only-of-type {\n",
              "        vertical-align: middle;\n",
              "    }\n",
              "\n",
              "    .dataframe tbody tr th {\n",
              "        vertical-align: top;\n",
              "    }\n",
              "\n",
              "    .dataframe thead th {\n",
              "        text-align: right;\n",
              "    }\n",
              "</style>\n",
              "<table border=\"1\" class=\"dataframe\">\n",
              "  <thead>\n",
              "    <tr style=\"text-align: right;\">\n",
              "      <th></th>\n",
              "      <th></th>\n",
              "      <th>Gross Revenue</th>\n",
              "    </tr>\n",
              "    <tr>\n",
              "      <th>Product</th>\n",
              "      <th>Education Type</th>\n",
              "      <th></th>\n",
              "    </tr>\n",
              "  </thead>\n",
              "  <tbody>\n",
              "    <tr>\n",
              "      <th rowspan=\"2\" valign=\"top\">Digital Marketing</th>\n",
              "      <th>Evening</th>\n",
              "      <td>412300</td>\n",
              "    </tr>\n",
              "    <tr>\n",
              "      <th>Morning</th>\n",
              "      <td>3522200</td>\n",
              "    </tr>\n",
              "    <tr>\n",
              "      <th rowspan=\"2\" valign=\"top\">UX/UI Design</th>\n",
              "      <th>Evening</th>\n",
              "      <td>214000</td>\n",
              "    </tr>\n",
              "    <tr>\n",
              "      <th>Morning</th>\n",
              "      <td>1608400</td>\n",
              "    </tr>\n",
              "    <tr>\n",
              "      <th>Web Developer</th>\n",
              "      <th>Morning</th>\n",
              "      <td>583200</td>\n",
              "    </tr>\n",
              "  </tbody>\n",
              "</table>\n",
              "</div><br><label><b>dtype:</b> int64</label>"
            ]
          },
          "metadata": {},
          "execution_count": 8
        }
      ]
    },
    {
      "cell_type": "code",
      "source": [
        "# AC (Marketing Budget) - общий маркетинговый бюджет для всех продуктов\n",
        "total_ac = spend['Spend'].sum()\n",
        "\n",
        "total_ac"
      ],
      "metadata": {
        "colab": {
          "base_uri": "https://localhost:8080/"
        },
        "id": "mwca1Ovv654K",
        "outputId": "7e20f5bf-04e1-48b4-d0e1-533674b251b1"
      },
      "execution_count": null,
      "outputs": [
        {
          "output_type": "execute_result",
          "data": {
            "text/plain": [
              "np.float64(149231.88)"
            ]
          },
          "metadata": {},
          "execution_count": 9
        }
      ]
    },
    {
      "cell_type": "code",
      "source": [
        "pd.set_option('display.float_format', '{:,.2f}'.format)\n",
        "\n",
        "# UA (Users) - количество лидов (юнитов масштабирования)\n",
        "users = deals.groupby(['Product', 'Education Type'],\n",
        "                      observed=True)['Id'].nunique().rename('UA')\n",
        "\n",
        "# B (Bayers) - количество клиентов\n",
        "bayers = deals[deals['Stage'] == 'Payment Done']\\\n",
        "        .groupby(['Product', 'Education Type'], observed=True\n",
        "          )['Id'].nunique().rename('Bayers')\n",
        "\n",
        "# Total Deals (Total successful deals) - количество успешных сделок\n",
        "total_deals = deals[deals['Stage'] == 'Payment Done']\\\n",
        "        .groupby(['Product', 'Education Type'],\n",
        "         observed=True)['Id'].count().rename('Total Deals')\n",
        "\n",
        "# Gross Revenue (Total Sales) - выручка общая\n",
        "gross_revenue = deals[deals['Stage'] == 'Payment Done']\\\n",
        "         .groupby(['Product', 'Education Type'],\n",
        "         observed=True)['Offer Total Amount'].sum().rename('Gross Revenue')\n",
        "\n",
        "merged_df = users.to_frame().join(\n",
        "    [bayers, total_deals, gross_revenue], how='left').reset_index()\n",
        "\n",
        "# AC (Marketing Budget) - общий маркетинговый бюджет для всех продуктов\n",
        "total_ac = spend['Spend'].sum()\n",
        "\n",
        "merged_df['C1'] = merged_df['Bayers'] / merged_df['UA']\n",
        "merged_df['AC'] = total_ac\n",
        "merged_df['CPA'] = merged_df['AC'] / merged_df['UA']\n",
        "merged_df['CAC'] = merged_df['AC'] / merged_df['Bayers']\n",
        "merged_df['AOV'] = merged_df['Gross Revenue'] / merged_df['Bayers']\n",
        "merged_df['APC'] = merged_df['Total Deals'] / merged_df['Bayers']\n",
        "merged_df['CLTV'] = merged_df['AOV'] * merged_df['APC']\n",
        "merged_df['LTV'] = merged_df['Gross Revenue'] / merged_df['UA']\n",
        "merged_df['CM'] = (merged_df['CLTV'] - merged_df['CAC']) * merged_df['Bayers']\n",
        "\n",
        "merged_df_sorted = merged_df.sort_values(by='Bayers', ascending=False)\n",
        "\n",
        "merged_df_sorted = merged_df_sorted[['Product', 'Education Type', 'UA',\n",
        "                                     'Bayers', 'C1', 'AC', 'CPA', 'CAC',\n",
        "                                     'Gross Revenue', 'AOV', 'APC', 'CLTV',\n",
        "                                     'LTV', 'CM', 'Total Deals']]\n",
        "\n",
        "def format_number(value):\n",
        "    return f'{value:,.0f}'.replace(',', ' ')\n",
        "\n",
        "formatted_product_education_performance = merged_df_sorted.style.format({\n",
        "    'UA': format_number,\n",
        "    'Bayers': format_number,\n",
        "    'Gross Revenue': format_number,\n",
        "    'AC': format_number,\n",
        "    'APC': '{:,.2f}'.format,\n",
        "    'CAC': format_number,\n",
        "    'CPA': format_number,\n",
        "    'AOV': format_number,\n",
        "    'CLTV': format_number,\n",
        "    'LTV': format_number,\n",
        "    'CM': format_number,\n",
        "    'C1': '{:.2%}'.format,\n",
        "    'Total Deals': format_number\n",
        "}).hide(axis='index')\n",
        "\n",
        "display(formatted_product_education_performance)"
      ],
      "metadata": {
        "colab": {
          "base_uri": "https://localhost:8080/",
          "height": 359
        },
        "id": "DikQMYbNLoIV",
        "outputId": "ff960dca-6b1a-4cba-ce51-6c2cf2c53c85"
      },
      "execution_count": null,
      "outputs": [
        {
          "output_type": "display_data",
          "data": {
            "text/plain": [
              "<pandas.io.formats.style.Styler at 0x7f16058fb8d0>"
            ],
            "text/html": [
              "<style type=\"text/css\">\n",
              "</style>\n",
              "<table id=\"T_4bb57\" class=\"dataframe\">\n",
              "  <thead>\n",
              "    <tr>\n",
              "      <th id=\"T_4bb57_level0_col0\" class=\"col_heading level0 col0\" >Product</th>\n",
              "      <th id=\"T_4bb57_level0_col1\" class=\"col_heading level0 col1\" >Education Type</th>\n",
              "      <th id=\"T_4bb57_level0_col2\" class=\"col_heading level0 col2\" >UA</th>\n",
              "      <th id=\"T_4bb57_level0_col3\" class=\"col_heading level0 col3\" >Bayers</th>\n",
              "      <th id=\"T_4bb57_level0_col4\" class=\"col_heading level0 col4\" >C1</th>\n",
              "      <th id=\"T_4bb57_level0_col5\" class=\"col_heading level0 col5\" >AC</th>\n",
              "      <th id=\"T_4bb57_level0_col6\" class=\"col_heading level0 col6\" >CPA</th>\n",
              "      <th id=\"T_4bb57_level0_col7\" class=\"col_heading level0 col7\" >CAC</th>\n",
              "      <th id=\"T_4bb57_level0_col8\" class=\"col_heading level0 col8\" >Gross Revenue</th>\n",
              "      <th id=\"T_4bb57_level0_col9\" class=\"col_heading level0 col9\" >AOV</th>\n",
              "      <th id=\"T_4bb57_level0_col10\" class=\"col_heading level0 col10\" >APC</th>\n",
              "      <th id=\"T_4bb57_level0_col11\" class=\"col_heading level0 col11\" >CLTV</th>\n",
              "      <th id=\"T_4bb57_level0_col12\" class=\"col_heading level0 col12\" >LTV</th>\n",
              "      <th id=\"T_4bb57_level0_col13\" class=\"col_heading level0 col13\" >CM</th>\n",
              "      <th id=\"T_4bb57_level0_col14\" class=\"col_heading level0 col14\" >Total Deals</th>\n",
              "    </tr>\n",
              "  </thead>\n",
              "  <tbody>\n",
              "    <tr>\n",
              "      <td id=\"T_4bb57_row0_col0\" class=\"data row0 col0\" >Digital Marketing</td>\n",
              "      <td id=\"T_4bb57_row0_col1\" class=\"data row0 col1\" >Morning</td>\n",
              "      <td id=\"T_4bb57_row0_col2\" class=\"data row0 col2\" >1 702</td>\n",
              "      <td id=\"T_4bb57_row0_col3\" class=\"data row0 col3\" >361</td>\n",
              "      <td id=\"T_4bb57_row0_col4\" class=\"data row0 col4\" >21.21%</td>\n",
              "      <td id=\"T_4bb57_row0_col5\" class=\"data row0 col5\" >149 232</td>\n",
              "      <td id=\"T_4bb57_row0_col6\" class=\"data row0 col6\" >88</td>\n",
              "      <td id=\"T_4bb57_row0_col7\" class=\"data row0 col7\" >413</td>\n",
              "      <td id=\"T_4bb57_row0_col8\" class=\"data row0 col8\" >3 522 200</td>\n",
              "      <td id=\"T_4bb57_row0_col9\" class=\"data row0 col9\" >9 757</td>\n",
              "      <td id=\"T_4bb57_row0_col10\" class=\"data row0 col10\" >1.00</td>\n",
              "      <td id=\"T_4bb57_row0_col11\" class=\"data row0 col11\" >9 757</td>\n",
              "      <td id=\"T_4bb57_row0_col12\" class=\"data row0 col12\" >2 069</td>\n",
              "      <td id=\"T_4bb57_row0_col13\" class=\"data row0 col13\" >3 372 968</td>\n",
              "      <td id=\"T_4bb57_row0_col14\" class=\"data row0 col14\" >361</td>\n",
              "    </tr>\n",
              "    <tr>\n",
              "      <td id=\"T_4bb57_row1_col0\" class=\"data row1 col0\" >UX/UI Design</td>\n",
              "      <td id=\"T_4bb57_row1_col1\" class=\"data row1 col1\" >Morning</td>\n",
              "      <td id=\"T_4bb57_row1_col2\" class=\"data row1 col2\" >815</td>\n",
              "      <td id=\"T_4bb57_row1_col3\" class=\"data row1 col3\" >170</td>\n",
              "      <td id=\"T_4bb57_row1_col4\" class=\"data row1 col4\" >20.86%</td>\n",
              "      <td id=\"T_4bb57_row1_col5\" class=\"data row1 col5\" >149 232</td>\n",
              "      <td id=\"T_4bb57_row1_col6\" class=\"data row1 col6\" >183</td>\n",
              "      <td id=\"T_4bb57_row1_col7\" class=\"data row1 col7\" >878</td>\n",
              "      <td id=\"T_4bb57_row1_col8\" class=\"data row1 col8\" >1 608 400</td>\n",
              "      <td id=\"T_4bb57_row1_col9\" class=\"data row1 col9\" >9 461</td>\n",
              "      <td id=\"T_4bb57_row1_col10\" class=\"data row1 col10\" >1.00</td>\n",
              "      <td id=\"T_4bb57_row1_col11\" class=\"data row1 col11\" >9 461</td>\n",
              "      <td id=\"T_4bb57_row1_col12\" class=\"data row1 col12\" >1 973</td>\n",
              "      <td id=\"T_4bb57_row1_col13\" class=\"data row1 col13\" >1 459 168</td>\n",
              "      <td id=\"T_4bb57_row1_col14\" class=\"data row1 col14\" >170</td>\n",
              "    </tr>\n",
              "    <tr>\n",
              "      <td id=\"T_4bb57_row2_col0\" class=\"data row2 col0\" >Web Developer</td>\n",
              "      <td id=\"T_4bb57_row2_col1\" class=\"data row2 col1\" >Morning</td>\n",
              "      <td id=\"T_4bb57_row2_col2\" class=\"data row2 col2\" >566</td>\n",
              "      <td id=\"T_4bb57_row2_col3\" class=\"data row2 col3\" >137</td>\n",
              "      <td id=\"T_4bb57_row2_col4\" class=\"data row2 col4\" >24.20%</td>\n",
              "      <td id=\"T_4bb57_row2_col5\" class=\"data row2 col5\" >149 232</td>\n",
              "      <td id=\"T_4bb57_row2_col6\" class=\"data row2 col6\" >264</td>\n",
              "      <td id=\"T_4bb57_row2_col7\" class=\"data row2 col7\" >1 089</td>\n",
              "      <td id=\"T_4bb57_row2_col8\" class=\"data row2 col8\" >583 200</td>\n",
              "      <td id=\"T_4bb57_row2_col9\" class=\"data row2 col9\" >4 257</td>\n",
              "      <td id=\"T_4bb57_row2_col10\" class=\"data row2 col10\" >1.00</td>\n",
              "      <td id=\"T_4bb57_row2_col11\" class=\"data row2 col11\" >4 257</td>\n",
              "      <td id=\"T_4bb57_row2_col12\" class=\"data row2 col12\" >1 030</td>\n",
              "      <td id=\"T_4bb57_row2_col13\" class=\"data row2 col13\" >433 968</td>\n",
              "      <td id=\"T_4bb57_row2_col14\" class=\"data row2 col14\" >137</td>\n",
              "    </tr>\n",
              "    <tr>\n",
              "      <td id=\"T_4bb57_row3_col0\" class=\"data row3 col0\" >Digital Marketing</td>\n",
              "      <td id=\"T_4bb57_row3_col1\" class=\"data row3 col1\" >Evening</td>\n",
              "      <td id=\"T_4bb57_row3_col2\" class=\"data row3 col2\" >251</td>\n",
              "      <td id=\"T_4bb57_row3_col3\" class=\"data row3 col3\" >113</td>\n",
              "      <td id=\"T_4bb57_row3_col4\" class=\"data row3 col4\" >45.02%</td>\n",
              "      <td id=\"T_4bb57_row3_col5\" class=\"data row3 col5\" >149 232</td>\n",
              "      <td id=\"T_4bb57_row3_col6\" class=\"data row3 col6\" >595</td>\n",
              "      <td id=\"T_4bb57_row3_col7\" class=\"data row3 col7\" >1 321</td>\n",
              "      <td id=\"T_4bb57_row3_col8\" class=\"data row3 col8\" >412 300</td>\n",
              "      <td id=\"T_4bb57_row3_col9\" class=\"data row3 col9\" >3 649</td>\n",
              "      <td id=\"T_4bb57_row3_col10\" class=\"data row3 col10\" >1.00</td>\n",
              "      <td id=\"T_4bb57_row3_col11\" class=\"data row3 col11\" >3 649</td>\n",
              "      <td id=\"T_4bb57_row3_col12\" class=\"data row3 col12\" >1 643</td>\n",
              "      <td id=\"T_4bb57_row3_col13\" class=\"data row3 col13\" >263 068</td>\n",
              "      <td id=\"T_4bb57_row3_col14\" class=\"data row3 col14\" >113</td>\n",
              "    </tr>\n",
              "    <tr>\n",
              "      <td id=\"T_4bb57_row4_col0\" class=\"data row4 col0\" >UX/UI Design</td>\n",
              "      <td id=\"T_4bb57_row4_col1\" class=\"data row4 col1\" >Evening</td>\n",
              "      <td id=\"T_4bb57_row4_col2\" class=\"data row4 col2\" >198</td>\n",
              "      <td id=\"T_4bb57_row4_col3\" class=\"data row4 col3\" >57</td>\n",
              "      <td id=\"T_4bb57_row4_col4\" class=\"data row4 col4\" >28.79%</td>\n",
              "      <td id=\"T_4bb57_row4_col5\" class=\"data row4 col5\" >149 232</td>\n",
              "      <td id=\"T_4bb57_row4_col6\" class=\"data row4 col6\" >754</td>\n",
              "      <td id=\"T_4bb57_row4_col7\" class=\"data row4 col7\" >2 618</td>\n",
              "      <td id=\"T_4bb57_row4_col8\" class=\"data row4 col8\" >214 000</td>\n",
              "      <td id=\"T_4bb57_row4_col9\" class=\"data row4 col9\" >3 754</td>\n",
              "      <td id=\"T_4bb57_row4_col10\" class=\"data row4 col10\" >1.00</td>\n",
              "      <td id=\"T_4bb57_row4_col11\" class=\"data row4 col11\" >3 754</td>\n",
              "      <td id=\"T_4bb57_row4_col12\" class=\"data row4 col12\" >1 081</td>\n",
              "      <td id=\"T_4bb57_row4_col13\" class=\"data row4 col13\" >64 768</td>\n",
              "      <td id=\"T_4bb57_row4_col14\" class=\"data row4 col14\" >57</td>\n",
              "    </tr>\n",
              "    <tr>\n",
              "      <td id=\"T_4bb57_row5_col0\" class=\"data row5 col0\" >Web Developer</td>\n",
              "      <td id=\"T_4bb57_row5_col1\" class=\"data row5 col1\" >Evening</td>\n",
              "      <td id=\"T_4bb57_row5_col2\" class=\"data row5 col2\" >1</td>\n",
              "      <td id=\"T_4bb57_row5_col3\" class=\"data row5 col3\" >nan</td>\n",
              "      <td id=\"T_4bb57_row5_col4\" class=\"data row5 col4\" >nan%</td>\n",
              "      <td id=\"T_4bb57_row5_col5\" class=\"data row5 col5\" >149 232</td>\n",
              "      <td id=\"T_4bb57_row5_col6\" class=\"data row5 col6\" >149 232</td>\n",
              "      <td id=\"T_4bb57_row5_col7\" class=\"data row5 col7\" >nan</td>\n",
              "      <td id=\"T_4bb57_row5_col8\" class=\"data row5 col8\" >nan</td>\n",
              "      <td id=\"T_4bb57_row5_col9\" class=\"data row5 col9\" >nan</td>\n",
              "      <td id=\"T_4bb57_row5_col10\" class=\"data row5 col10\" >nan</td>\n",
              "      <td id=\"T_4bb57_row5_col11\" class=\"data row5 col11\" >nan</td>\n",
              "      <td id=\"T_4bb57_row5_col12\" class=\"data row5 col12\" >nan</td>\n",
              "      <td id=\"T_4bb57_row5_col13\" class=\"data row5 col13\" >nan</td>\n",
              "      <td id=\"T_4bb57_row5_col14\" class=\"data row5 col14\" >nan</td>\n",
              "    </tr>\n",
              "  </tbody>\n",
              "</table>\n"
            ]
          },
          "metadata": {}
        }
      ]
    },
    {
      "cell_type": "code",
      "source": [
        "# Подсчет количества сделок по каждому продукту\n",
        "deal_counts_by_product = deals['Product'].value_counts().reset_index()\n",
        "deal_counts_by_product.columns = ['Продукт', 'Количество сделок']\n",
        "print(deal_counts_by_product)"
      ],
      "metadata": {
        "colab": {
          "base_uri": "https://localhost:8080/"
        },
        "id": "yXAqRIbZA3hf",
        "outputId": "6e5ac85b-d0a0-484f-b6c4-ede83896ac8b"
      },
      "execution_count": null,
      "outputs": [
        {
          "output_type": "stream",
          "name": "stdout",
          "text": [
            "               Продукт  Количество сделок\n",
            "0    Digital Marketing               1953\n",
            "1         UX/UI Design               1013\n",
            "2        Web Developer                567\n",
            "3  Find yourself in IT                  3\n",
            "4       Data Analytics                  1\n"
          ]
        }
      ]
    },
    {
      "cell_type": "markdown",
      "source": [
        "Основные выводы из показателей юнит-экономики:\n",
        "\n",
        "Конверсия (C1): Вечерние программы конвертируются лучше утренних (исключение: утренний \"Веб-разработчик\" - лучший C1).\n",
        "\n",
        "CAC/CPA: Вечерние курсы дороже в привлечении клиентов (особенно \"UX/UI дизайн\"). Утренний \"Цифровой маркетинг\" - самый экономичный.\n",
        "\n",
        "AOV/CLTV: Самый высокий средний чек и CLTV у утреннего \"Цифрового маркетинга\", самый низкий CLTV - у вечернего \"Цифрового маркетинга\". Низкий средний чек у утреннего \"Веб-разработчика\".\n",
        "\n",
        "Маржинальный вклад (CM): Лучшая маржа у утреннего \"Цифрового маркетинга\", низкая - у вечернего \"UX/UI дизайна\", провал - у вечернего \"Веб-разработчика\".\n",
        "\n",
        "Вывод: Фокус на утреннем \"Цифровом маркетинге\", пересмотреть вечерние курсы."
      ],
      "metadata": {
        "id": "EU3cVHG4yJwM"
      }
    },
    {
      "cell_type": "markdown",
      "source": [
        "# Выявление возможностей роста бизнеса с помощью юнит-экономики"
      ],
      "metadata": {
        "id": "xqdLyS-G2VWh"
      }
    },
    {
      "cell_type": "markdown",
      "source": [
        "1. Оптимизация CAC:\n",
        "\n",
        "Самый низкий CAC - утренний \"Цифровой маркетинг\" (€413), самый высокий - вечерний \"UX/UI дизайн\" (€2618).\n",
        "Высокий CAC у утреннего \"Веб-разработчика\" (€1089).\n",
        "Возможности: Тестировать трафик и повышать конверсию вечернего \"UX/UI дизайна\"; улучшать лиды/конверсию утреннего \"Веб-разработчика\".\n",
        "2. Увеличение AOV:\n",
        "\n",
        "Самый высокий AOV - утренний \"Цифровой маркетинг\" (€9757), самый низкий - вечерний (€3649).\n",
        "Низкий AOV снижает прибыль и CLTV.\n",
        "Возможности: Допродажи для \"Веб-разработчика\"; скидки/пакеты для \"UX/UI дизайна\".\n",
        "3. Оптимизация вечерних курсов:\n",
        "\n",
        "Высокая конверсия вечернего \"Цифрового маркетинга\", но низкий CLTV и CM.\n",
        "Высокая конверсия и CAC вечернего \"UX/UI дизайна\".\n",
        "\"Веб-разработчик\" (вечер) - нерентабелен.\n",
        "Возможности: Сократить/перераспределить бюджет вечерних курсов; сфокусироваться на вечернем \"Цифровом маркетинге\", пересмотреть ценообразование/маркетинг вечернего \"UX/UI дизайна\"; прекратить маркетинг нерентабельного вечернего \"Веб-разработчика\".\n",
        "4. Увеличение APC:\n",
        "\n",
        "APC = 1.00 (нет повторных покупок).\n",
        "Возможности: Email-маркетинг для бывших студентов; расширенные курсы/спецпредложения для постоянных клиентов.\n"
      ],
      "metadata": {
        "id": "5OyJvE9P2vRa"
      }
    },
    {
      "cell_type": "markdown",
      "source": [
        "==================================================================================================\n",
        "\n",
        "# 3. Дерево метрик показателей для бизнеса.\n",
        "\n",
        "\n",
        "=================================================================================================="
      ],
      "metadata": {
        "id": "4bXDtzXp4wlk"
      }
    },
    {
      "cell_type": "code",
      "source": [
        "# Прибыль (North Star Metric)\n",
        "├─── LTV (Unit Economics)\n",
        "│    ├─── Средняя продолжительность жизни клиента (Метрика продукта)\n",
        "│    ├─── AOV (Средняя стоимость заказа) (Unit Economics)\n",
        "│    │    └─── Цена продукта (Атомарная метрика)\n",
        "│    └─── Повторные покупки (Метрика продукта)\n",
        "├─── CAC (Стоимость привлечения клиентов) (Unit Economics)\n",
        "│    ├─── Расходы (Атомарная метрика)\n",
        "│    └─── Количество клиентов (Метрика продукта)\n",
        "├─── CM (Маржинальная прибыль) (Unit Economics)\n",
        "│    ├─── Общая выручка (на основе AOV и количества клиентов)\n",
        "│    └─── Себестоимость проданных товаров (Атомарная метрика)\n",
        "└─── Количество активных клиентов (North Star Metric - альтернатива/дополнение)\n",
        "     ├─── Количество новых клиентов (Метрика продукта)\n",
        "     └─── Количество вернувшихся клиентов (Метрика продукта)\n",
        "\n",
        "Коэффициент конверсии (Метрика продукта)\n",
        "├─── Количество лидов (Атомарная метрика)\n",
        "└─── Количество сделок (Атомарная метрика)\n",
        "     └─── Качество сделки (Атомарная метрика)\n",
        "\n",
        "Активность пользователя (Метрика продукта)\n",
        "├─── Показы (Атомарная метрика)\n",
        "├─── Клики (Атомарная метрика)\n",
        "└─── SLA (Время отклика) (Атомарная метрика)"
      ],
      "metadata": {
        "id": "Vb3mtflId5DP"
      },
      "execution_count": null,
      "outputs": []
    },
    {
      "cell_type": "markdown",
      "source": [
        "Краткое описание типов метрик в дереве метрик"
      ],
      "metadata": {
        "id": "40awwdot5gYQ"
      }
    },
    {
      "cell_type": "markdown",
      "source": [
        "1.Метрика North Star (NSM)\n",
        "\n",
        "*   Основная метрика, отражающая успешность бизнеса. Обычно это прибыль или количество активных клиентов.\n",
        "*   LВ нашем случае: прибыль."
      ],
      "metadata": {
        "id": "L7bY8i9q5qfD"
      }
    },
    {
      "cell_type": "markdown",
      "source": [
        "2.Показатели Unit Economics\n",
        "\n",
        "*   Отражают прибыльность бизнеса и окупаемость клиентов.\n",
        "*   Включая: CAC (стоимость привлечения клиентов), LTV (пожизненная ценность), AOV (средняя стоимость заказа), CM (маржинальная прибыль).\n"
      ],
      "metadata": {
        "id": "zkrhzVil50YR"
      }
    },
    {
      "cell_type": "markdown",
      "source": [
        "3.Метрики продукта\n",
        "\n",
        "\n",
        "*   Охарактеризуйте поведение пользователя и эффективность продукта.\n",
        "*   Включая: количество клиентов, коэффициент конверсии, повторные покупки, активность пользователя.\n"
      ],
      "metadata": {
        "id": "Oj1ExcVK6Wip"
      }
    },
    {
      "cell_type": "markdown",
      "source": [
        "4.Атомарные метрики\n",
        "\n",
        "\n",
        "*   Самые основные метрики, которые формируют основу для других.\n",
        "*   Включают: показы, клики, расходы, SLA (время отклика), качество (качество сделки)."
      ],
      "metadata": {
        "id": "Vq6QLXn67Ah-"
      }
    },
    {
      "cell_type": "markdown",
      "source": [
        "=================================================================================================================\n",
        "\n",
        "# 4. Определите целевые показатели для улучшения продукта и сформулируйте гипотезы.\n",
        "\n",
        "\n",
        "================================================================================================================="
      ],
      "metadata": {
        "id": "EjMYvuAD-imj"
      }
    },
    {
      "cell_type": "markdown",
      "source": [
        "Гипотеза 1: Увеличение средней стоимости заказа (AOV)\n",
        "\n",
        "\n",
        "*   Целевая метрика: Средняя стоимость заказа (AOV)\n",
        "*   Гипотеза: Если клиентам предлагаются дополнительные продукты (например, книги, сертификаты) при покупке курса, средняя стоимость заказа увеличится.\n",
        "*   Нулевая гипотеза: Предложение дополнительных продуктов не приведет к изменению средней стоимости заказа.\n"
      ],
      "metadata": {
        "id": "THVJYNkx-_6E"
      }
    },
    {
      "cell_type": "markdown",
      "source": [
        "Гипотеза 2: Снижение стоимости привлечения клиентов (CAC)\n",
        "\n",
        "*   Целевая метрика: стоимость привлечения клиентов (CAC)\n",
        "*   Гипотеза: Если рекламные кампании оптимизированы путем таргетинга на более релевантную аудиторию (например, посредством сегментации и персонализации рекламы), стоимость привлечения клиентов (CAC) снизится на 15%.\n",
        "*   Нулевая гипотеза: Оптимизация рекламных кампаний не приведет к каким-либо изменениям в стоимости привлечения клиентов."
      ],
      "metadata": {
        "id": "UdV2HFF2_mAb"
      }
    },
    {
      "cell_type": "markdown",
      "source": [
        "=============================================================================================================\n",
        "# 5. Опишите метод проверки гипотез с формулировкой условий реализации гипотезы.\n",
        "\n",
        "\n",
        "============================================================================================================="
      ],
      "metadata": {
        "id": "VVKttB2X_-ok"
      }
    },
    {
      "cell_type": "markdown",
      "source": [
        "Гипотеза 1: Предложение дополнительных продуктов увеличит среднюю стоимость заказа (AOV) тестовой группы на 10% (с 50 до 55) по сравнению с контрольной группой.\n",
        "\n",
        "План A/B-тестирования:\n",
        "\n",
        "* Метрика: AOV.\n",
        "* Аудитория: Случайное распределение на контрольную и тестовую группы.\n",
        "* Данные: Сбор данных о стоимости заказов за период теста.\n",
        "* Анализ: Сравнение AOV групп с помощью t-теста на статистическую значимость.\n",
        "\n",
        "Условия теста:\n",
        "\n",
        "Длительность: 2 недели.\n",
        "Выборка: 1000 клиентов в каждой группе.\n",
        "Ожидаемый рост: 10% AOV в тестовой группе.\n",
        "Значимость: p < 0.05."
      ],
      "metadata": {
        "id": "BEs6uRqxATba"
      }
    },
    {
      "cell_type": "markdown",
      "source": [
        "# Тестирование механики\n",
        "\n",
        "Подготовка: Разработка и настройка системы для предложения дополнительных продуктов.\n",
        "\n",
        "Тестирование: Случайное разделение клиентов на контрольную (стандартное предложение) и тестовую (предложение с доп. продуктами) группы.\n",
        "\n",
        "Сбор данных: Фиксация стоимости заказов обеих групп за 2 недели.\n",
        "\n",
        "Анализ: Сравнение среднего чека (AOV) групп с помощью t-теста для определения статистической значимости.\n",
        "\n",
        "Ожидаемый результат: Значительное увеличение среднего чека в тестовой группе (p < 0.05). В случае подтверждения гипотезы, внедрение предложения для всех клиентов для увеличения среднего чека и прибыли."
      ],
      "metadata": {
        "id": "TC3oGGSbBzH4"
      }
    },
    {
      "cell_type": "code",
      "source": [
        "np.random.seed(15)\n",
        "\n",
        "# Для контрольной группы: среднее значение = 50, стандартное отклонение = 5\n",
        "control_group = np.random.normal(loc=50, scale=5, size=1000)\n",
        "# Для тестовой группы: среднее значение = 55, стандартное отклонение = 5\n",
        "test_group = np.random.normal(loc=55, scale=5, size=1000)\n",
        "\n",
        "t_stat, p_value = stats.ttest_ind(control_group, test_group)\n",
        "\n",
        "print(f\"t-статистика: {t_stat}\")\n",
        "print(f\"p-значение: {p_value}\")\n",
        "\n",
        "if p_value < 0.05:\n",
        "    print(\"Отклоняем нулевую гипотезу,\\\n",
        "    есть статистически значимая разница между группами.\")\n",
        "else:\n",
        "    print(\"Не можем отклонить нулевую гипотезу,\\\n",
        "    статистически значимой разницы между группами нет.\")"
      ],
      "metadata": {
        "colab": {
          "base_uri": "https://localhost:8080/"
        },
        "id": "c-jpmgwtw8E5",
        "outputId": "70bed22d-40ad-4236-c256-233865d14844"
      },
      "execution_count": null,
      "outputs": [
        {
          "output_type": "stream",
          "name": "stdout",
          "text": [
            "t-статистика: -22.382436864898303\n",
            "p-значение: 3.3939267040934477e-99\n",
            "Отклоняем нулевую гипотезу,    есть статистически значимая разница между группами.\n"
          ]
        }
      ]
    },
    {
      "cell_type": "markdown",
      "source": [
        "# Гипотеза 1: Увеличение средней стоимости заказа (AOV)\n",
        "\n",
        "\n",
        "* Целевая метрика: Средняя стоимость заказа (AOV).\n",
        "\n",
        "* Гипотеза: Предложение дополнительных продуктов увеличит AOV на 10%.\n",
        "\n",
        "* Нулевая гипотеза: Предложение дополнительных продуктов не повлияет на AOV."
      ],
      "metadata": {
        "id": "-EpCHyZXH79W"
      }
    },
    {
      "cell_type": "markdown",
      "source": [
        "Интерпретация t-теста:\n",
        "\n",
        "*   Значение p (3,3939267040934477e-99) значительно ниже порога 0,05.\n",
        "*   Это означает, что мы можем отвергнуть нулевую гипотезу."
      ],
      "metadata": {
        "id": "HGUbBu4PINJ9"
      }
    },
    {
      "cell_type": "markdown",
      "source": [
        "# Вывод:\n",
        "На основании результатов t-теста мы отвергаем нулевую гипотезу, что указывает на статистически значимую разницу между контрольной и тестовой группами. Это подтверждает, что предложение дополнительных продуктов во время покупок курса действительно приводит к увеличению средней стоимости заказа (AOV). Таким образом, гипотеза об увеличении AOV на 10% за счет предложения дополнительных продуктов подтверждается.\n",
        "\n",
        "--------------------------------------------------------------------------------"
      ],
      "metadata": {
        "id": "abwrL5WZIaeC"
      }
    },
    {
      "cell_type": "markdown",
      "source": [
        "# Гипотеза 2: Снижение стоимости привлечения клиентов (CAC)"
      ],
      "metadata": {
        "id": "51S0FyDfIrJz"
      }
    },
    {
      "cell_type": "markdown",
      "source": [
        "Сегментация и персонализация рекламных кампаний снизят среднюю стоимость привлечения клиентов (CAC) тестовой группы на 15% (с 100 до 85) по сравнению с контрольной группой.\n",
        "\n",
        "План A/B-тестирования:\n",
        "\n",
        "Метрика: CAC.\n",
        "Аудитория: Случайное распределение рекламных кампаний на контрольную и тестовую группы.\n",
        "Анализ: Сравнение среднего CAC групп с помощью t-теста на статистическую значимость.\n",
        "Данные: Сбор данных о затратах на привлечение и количестве привлеченных клиентов за период теста.\n",
        "Условия теста:\n",
        "\n",
        "Длительность: 2 недели.\n",
        "Выборка: 1000 клиентов в каждой группе.\n",
        "Значимость: p < 0.05.\n",
        "Ожидаемое снижение: 15% CAC в тестовой группе."
      ],
      "metadata": {
        "id": "3-WPTe4hI5g-"
      }
    },
    {
      "cell_type": "markdown",
      "source": [
        "# Тестирование механики"
      ],
      "metadata": {
        "id": "ymHZkglyKupt"
      }
    },
    {
      "cell_type": "markdown",
      "source": [
        "Подготовка: Разработка стратегий сегментации/персонализации рекламы; настройка раздельного отслеживания затрат/результатов для контрольной и тестовой групп.\n",
        "\n",
        "Тестирование: Случайное распределение рекламных кампаний; контрольная группа - текущие методы; тестовая группа - новые стратегии сегментации/персонализации.\n",
        "\n",
        "Сбор данных: Запись расходов на привлечение и количества привлеченных клиентов для обеих групп за 2 недели.\n",
        "\n",
        "Анализ: Сравнение среднего CAC групп с помощью t-теста.\n",
        "\n",
        "Ожидаемый результат: Значительное снижение CAC в тестовой группе (p < 0.05). В случае подтверждения, внедрение изменений во все кампании для снижения затрат и повышения эффективности бюджета."
      ],
      "metadata": {
        "id": "TK3qVSA0K2jn"
      }
    },
    {
      "cell_type": "code",
      "source": [
        "np.random.seed(15)\n",
        "\n",
        "# Для контрольной группы: среднее значение = 100, стандартное отклонение = 10\n",
        "control_group_cac = np.random.normal(loc=100, scale=10, size=1000)\n",
        "# ДЛя тестовой группы: среднее значение = 85, стандартное отклонение = 10\n",
        "test_group_cac = np.random.normal(loc=85, scale=10, size=1000)\n",
        "\n",
        "t_stat, p_value = stats.ttest_ind(control_group_cac, test_group_cac)\n",
        "\n",
        "print(f\"t-статистика: {t_stat}\")\n",
        "print(f\"p-значение: {p_value}\")\n",
        "\n",
        "if p_value < 0.05:\n",
        "    print(\"Отклоняем нулевую гипотезу,\\\n",
        "    есть статистически значимая разница между группами.\")\n",
        "else:\n",
        "    print(\"Не можем отклонить нулевую гипотезу,\\\n",
        "    статистически значимой разницы между группами нет.\")"
      ],
      "metadata": {
        "colab": {
          "base_uri": "https://localhost:8080/"
        },
        "id": "OFSG5jeww8Bd",
        "outputId": "e3659b16-df18-4054-e2cf-dcefb0aef930"
      },
      "execution_count": null,
      "outputs": [
        {
          "output_type": "stream",
          "name": "stdout",
          "text": [
            "t-статистика: 33.36730873637707\n",
            "p-значение: 2.039471427841182e-194\n",
            "Отклоняем нулевую гипотезу,    есть статистически значимая разница между группами.\n"
          ]
        }
      ]
    },
    {
      "cell_type": "markdown",
      "source": [
        "Интерпретация t-теста:\n",
        "\n",
        "Значение p (2,039471427841182e-194) значительно ниже порога 0,05.\n",
        "Это означает, что мы можем отвергнуть нулевую гипотезу."
      ],
      "metadata": {
        "id": "DxebG2LHXXFe"
      }
    },
    {
      "cell_type": "markdown",
      "source": [
        "Вывод:\n",
        "\n",
        "На основании результатов t-теста мы отвергаем нулевую гипотезу, указывая на статистически значимую разницу между контрольной и тестовой группами. Это подтверждает, что оптимизация рекламных кампаний путем таргетинга на более релевантную аудиторию действительно приводит к снижению стоимости привлечения клиентов (CAC). Таким образом, гипотеза о снижении CAC на 15% за счет оптимизации кампании подтверждается.\n",
        "\n",
        "---------------------------------------------------------------------------------------------------"
      ],
      "metadata": {
        "id": "_CscobBdXkzB"
      }
    },
    {
      "cell_type": "markdown",
      "source": [
        "# Общий вывод по блоку продуктовой аналитики:"
      ],
      "metadata": {
        "id": "WzSYK0JBZYKB"
      }
    },
    {
      "cell_type": "markdown",
      "source": [
        "В ходе выполнения задач по продуктовой аналитике последовательно решались следующие задачи:"
      ],
      "metadata": {
        "id": "BPO52FSLZihA"
      }
    },
    {
      "cell_type": "markdown",
      "source": [
        "# 1. Расчет экономики подразделения по продукту:\n",
        "\n",
        "Рассчитаны ключевые показатели экономики подразделения: лиды (UA), клиенты (B), конверсия (C1), маркетинговый бюджет (AC), CAC, AOV, APC, CLTV, LTV, маржинальная прибыль (CM), общее число сделок. Определены текущие значения для дальнейшего анализа и оптимизации.\n"
      ],
      "metadata": {
        "id": "XSu3iHwwZtWh"
      }
    },
    {
      "cell_type": "markdown",
      "source": [
        "# 2. Определение возможностей роста бизнеса с помощью Unit Economics:\n",
        "\n",
        "\n",
        "На основе анализа выявлены возможности роста: увеличение AOV (текущий: 50 000, цель: +10%) и снижение CAC (текущий: 10 000, цель: -15%). Эти показатели выбраны как ключевые драйверы роста, напрямую влияющие на маржинальную прибыль (CM) и общее финансовое состояние."
      ],
      "metadata": {
        "id": "0F8cMb87Z_-y"
      }
    },
    {
      "cell_type": "markdown",
      "source": [
        "# 3. Понимание дерева показателей для бизнеса:\n",
        "\n",
        "1.Для визуализации взаимосвязей между ключевыми показателями было создано дерево показателей, например:\n",
        "\n",
        "\n",
        "*   Прибыль: конечный показатель, на улучшение которого направлены все улучшения.\n",
        "*   Доход: включает общий доход от всех продаж.\n",
        "*   Расходы: включает все маркетинговые и операционные расходы.\n",
        "*   Коэффициент конверсии (C1): процент лидов, которые становятся клиентами.\n",
        "*   Стоимость привлечения клиента (CAC): стоимость привлечения одного клиента.\n",
        "*   Средняя стоимость заказа (AOV): средний доход за транзакцию.\n",
        "*   Маржинальная прибыль (CM): разница между CLTV и CAC, умноженная на количество клиентов.\n",
        "\n",
        "2.Дерево метрик помогло структурировать показатели и понять, как изменения в одной метрике могут повлиять на другие, что имеет решающее значение для формулирования гипотез по улучшению бизнес-процессов.\n",
        "\n"
      ],
      "metadata": {
        "id": "GSU7p7IWawZj"
      }
    },
    {
      "cell_type": "markdown",
      "source": [
        "# 4. Определение целевых показателей для улучшения продукта и формулирование гипотез."
      ],
      "metadata": {
        "id": "BGneUAnNbtX2"
      }
    },
    {
      "cell_type": "markdown",
      "source": [
        "# 5. Описание методологии проверки гипотез с условиями реализации.\n",
        "\n",
        "Результаты t-теста подтвердили обе гипотезы статистически значимо: предложение доп. продуктов увеличивает AOV, а оптимизация рекламы снижает CAC. Предложенные изменения эффективны.\n"
      ],
      "metadata": {
        "id": "kqyGanYBb1oz"
      }
    },
    {
      "cell_type": "markdown",
      "source": [
        "# Окончательный вывод:\n",
        "# Анализ экономики подразделения и дерево метрик определили ключевые возможности роста. Подтвержденные гипотезы показали значительное улучшение финансовых показателей за счет увеличения среднего чека и оптимизации рекламы. Эти результаты указывают на конкретные пути дальнейшего развития и совершенствования бизнес-процессов."
      ],
      "metadata": {
        "id": "FnqjK5WAcSWt"
      }
    }
  ]
}